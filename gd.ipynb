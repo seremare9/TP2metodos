{
 "cells": [
  {
   "cell_type": "code",
   "execution_count": 73,
   "id": "28f14f8c",
   "metadata": {},
   "outputs": [],
   "source": [
    "import numpy as np\n",
    "from PIL import Image\n",
    "import os\n",
    "import time\n",
    "import math\n",
    "import matplotlib.pyplot as plt\n",
    "from matplotlib.colors import LinearSegmentedColormap"
   ]
  },
  {
   "cell_type": "markdown",
   "id": "fee8a456",
   "metadata": {},
   "source": [
    "## Pre-procesamiento de imágenes"
   ]
  },
  {
   "cell_type": "markdown",
   "id": "c8b6b2a9",
   "metadata": {},
   "source": [
    "Función para convertir imágenes a vectores normalizados en escala de grises:"
   ]
  },
  {
   "cell_type": "code",
   "execution_count": 74,
   "id": "ee9a5e44",
   "metadata": {},
   "outputs": [],
   "source": [
    "def image_convert(dir, new_size):\n",
    "\n",
    "    imagenes = []\n",
    "\n",
    "    for filename in os.listdir(dir):\n",
    "\n",
    "        file_path = os.path.join(dir, filename)\n",
    "        # print(f\"Procesando imagen {file_path}\")\n",
    "        \n",
    "        if os.path.isfile(file_path):\n",
    "\n",
    "            # Sin este if no funciona en mi windows, probar comentarlo en Mac a ver que pasa\n",
    "            if not filename.lower().endswith('.png'):\n",
    "                continue\n",
    "            try:\n",
    "                with Image.open(file_path) as img:\n",
    "                    img = img.resize(new_size) \n",
    "                    img = img.convert('L') # Convertir a escala de grises\n",
    "                    img_array = np.array(img)/255.0 # Convertir a array y normalizar\n",
    "                    img_vector = img_array.reshape((new_size[0]**2)) \n",
    "                    imagenes.append(img_vector)\n",
    "            except Exception as e:\n",
    "                print(f\"Error procesando la imagen {file_path}: {e}\")\n",
    "\n",
    "    return np.array(imagenes)"
   ]
  },
  {
   "cell_type": "markdown",
   "id": "e39329fd",
   "metadata": {},
   "source": [
    "Configuramos los tamaños y elegimos aquel que se utilizará para los experimentos:"
   ]
  },
  {
   "cell_type": "code",
   "execution_count": 75,
   "id": "a06e2a92",
   "metadata": {},
   "outputs": [],
   "source": [
    "original = (256, 256)\n",
    "mediano =  (128, 128)\n",
    "chico = (64, 64)\n",
    "muy_chico = (32, 32)\n",
    "\n",
    "size = chico "
   ]
  },
  {
   "cell_type": "markdown",
   "id": "2ccf8fff",
   "metadata": {},
   "source": [
    "Conviertimos todas las imágenes a arreglos de pixeles según el tamaño elegido:"
   ]
  },
  {
   "cell_type": "code",
   "execution_count": 76,
   "id": "26aa8b76",
   "metadata": {},
   "outputs": [
    {
     "name": "stdout",
     "output_type": "stream",
     "text": [
      "Cantidad de imágenes sanas: 816\n",
      "Cantidad de imágenes con Parkinson: 816\n",
      "Tamaño de las imágenes: (64, 64) = 4096 pixeles\n"
     ]
    }
   ],
   "source": [
    "# Healthy\n",
    "src_dir = 'DatasetTP/Healthy'\n",
    "i_healthy = image_convert(src_dir, size) # Imágenes de pacientes sanos\n",
    "d_healthy = np.zeros((i_healthy.shape[0], 1)) * 0 # Vector de diagnósticos para la gente sana (0)\n",
    "\n",
    "# Parkinson\n",
    "src_dir = 'DatasetTP/Parkinson'  \n",
    "i_park = image_convert(src_dir, size) # Imágenes de pacientes con Parkinson\n",
    "d_park = np.ones((i_park.shape[0], 1)) # Vector de diagnósticos para la gente con Parkinson (1)\n",
    "\n",
    "cant_healthy = i_healthy.shape[0] # Cantidad de imágenes sanas\n",
    "print(f\"Cantidad de imágenes sanas: {cant_healthy}\")\n",
    "cant_park = i_park.shape[0] # Cantidad de imágenes con Parkinson\n",
    "print(f\"Cantidad de imágenes con Parkinson: {cant_park}\")\n",
    "print(f\"Tamaño de las imágenes: {size} = {size[0] * size[1]} pixeles\")"
   ]
  },
  {
   "cell_type": "markdown",
   "id": "0b64d2fd",
   "metadata": {},
   "source": [
    "Separamos en conjuntos de entrenamiento y test:"
   ]
  },
  {
   "cell_type": "code",
   "execution_count": 77,
   "id": "9cb92560",
   "metadata": {},
   "outputs": [
    {
     "name": "stdout",
     "output_type": "stream",
     "text": [
      "Entrenamiento - Sanos: 571, Parkinson: 571\n",
      "Test - Sanos: 245, Parkinson: 245\n",
      "Entrenamiento: (1142, 4096), (1142, 1)\n",
      "Test: (490, 4096), (490, 1)\n",
      "True\n"
     ]
    }
   ],
   "source": [
    "# Separamos en train y test (70% - 30%)\n",
    "cant_healthy_train = round(cant_healthy * 0.7) # 70% de las imágenes sanas para entrenamiento\n",
    "cant_healthy_test = cant_healthy - cant_healthy_train # 30% de las imágenes sanas para test\n",
    "\n",
    "cant_park_train = round(cant_park * 0.7) # 70% de las imágenes con Parkinson para entrenamiento\n",
    "cant_park_test = cant_park - cant_park_train # 30% de las imágenes con Parkinson para test\n",
    "\n",
    "print(f\"Entrenamiento - Sanos: {cant_healthy_train}, Parkinson: {cant_park_train}\")\n",
    "print(f\"Test - Sanos: {cant_healthy_test}, Parkinson: {cant_park_test}\")\n",
    "\n",
    "# Dividimos las imágenes en entrenamiento y test\n",
    "i_train = np.vstack((i_healthy[:cant_healthy_train], i_park[:cant_park_train])) # Imágenes de entrenamiento\n",
    "d_train = np.vstack((d_healthy[:cant_healthy_train], d_park[:cant_park_train])) # Diagnósticos de entrenamiento\n",
    "\n",
    "i_test = np.vstack((i_healthy[cant_healthy_train:], i_park[cant_park_train:])) # Imágenes de test\n",
    "d_test = np.vstack((d_healthy[cant_healthy_train:], d_park[cant_park_train:])) # Diagnósticos de test\n",
    "\n",
    "print(f\"Entrenamiento: {i_train.shape}, {d_train.shape}\")\n",
    "print(f\"Test: {i_test.shape}, {d_test.shape}\")\n",
    "\n",
    "# Mezclo los datos de entrenamiento y test\n",
    "np.random.seed(42)  \n",
    "indices = np.random.permutation(i_train.shape[0])\n",
    "i_train = i_train[indices]\n",
    "d_train = d_train[indices]\n",
    "\n",
    "indices = np.random.permutation(i_test.shape[0])\n",
    "i_test = i_test[indices]\n",
    "d_test = d_test[indices]\n",
    "\n",
    "# Chequeamos que la intersección entre train y test sea nula (Importante)\n",
    "print(len(set(map(tuple, i_train)).intersection(map(tuple, i_test))) == 0)"
   ]
  },
  {
   "cell_type": "markdown",
   "id": "e3a5f7ed",
   "metadata": {},
   "source": [
    "Queremos minimizar la función de pérdida:"
   ]
  },
  {
   "cell_type": "markdown",
   "id": "aa7422a5",
   "metadata": {},
   "source": [
    "$$\n",
    "\\sum_{i=1}^{N} \\left( f^*(\\mathbf{i}_i) - d_i \\right)^2\n",
    "$$"
   ]
  },
  {
   "cell_type": "markdown",
   "id": "cf9d52f2",
   "metadata": {},
   "source": [
    "Es decir, queremos minimizar la diferencia entre los diagnósticos que predice el modelo y los reales. "
   ]
  },
  {
   "cell_type": "markdown",
   "id": "044668eb",
   "metadata": {},
   "source": [
    "Buscamos la mejor solución dentro de las funciones $f : \\mathbb{R}^K \\to (0, 1)$\n",
    " que tengan la forma:"
   ]
  },
  {
   "cell_type": "markdown",
   "id": "43675cbf",
   "metadata": {},
   "source": [
    "$$\n",
    "f_{\\mathbf{w}, b}(\\mathbf{i}) = \\frac{\\tanh(\\mathbf{w} \\cdot \\mathbf{i} + b) + 1}{2}\n",
    "$$\n"
   ]
  },
  {
   "cell_type": "markdown",
   "id": "539bda14",
   "metadata": {},
   "source": [
    "donde $w$ es un vector de pesos (weights) de $\\mathbb{R}^K$ , $b$ (bias) un escalar, y $tanh$ la tangente hiperbólica."
   ]
  },
  {
   "cell_type": "markdown",
   "id": "795747ac",
   "metadata": {},
   "source": [
    "## Parte 1: Descenso de gradiente"
   ]
  },
  {
   "cell_type": "markdown",
   "id": "37c7f2d6",
   "metadata": {},
   "source": [
    "Derivadas parciales:\n",
    "$$\n",
    "\\arg\\min_{\\mathbf{w}, b} \\mathcal{L}(\\mathbf{w}, b) = \n",
    "\\arg\\min_{\\mathbf{w}, b} \\sum_{i=1}^{N} \\left( f_{\\mathbf{w}, b}(\\mathbf{i}_i) - d_i \\right)^2\n",
    "$$\n"
   ]
  },
  {
   "cell_type": "markdown",
   "id": "af100edf",
   "metadata": {},
   "source": [
    "Derivamos $\\mathcal{L}$ con respecto a $b$ (bias) y $w$ (weight):"
   ]
  },
  {
   "cell_type": "markdown",
   "id": "e728be50",
   "metadata": {},
   "source": [
    "$$\n",
    "\\frac{\\partial \\mathcal{L}(\\mathbf{w}, b) }{\\partial w} = (1-\\tanh(b+w^\\top \\cdot i)^{2})\\cdot ((1+\\tanh(b+w^\\top \\cdot i))/2-d)\\cdot i\n",
    "$$"
   ]
  },
  {
   "cell_type": "markdown",
   "id": "b8e8ed65",
   "metadata": {},
   "source": [
    "$$\n",
    "\\frac{\\partial \\mathcal{L}(\\mathbf{w}, b) }{\\partial b} = (1-\\tanh(b+w^\\top \\cdot i)^{2})\\cdot ((1+\\tanh(b+w^\\top \\cdot i))/2-d)\n",
    "$$"
   ]
  },
  {
   "cell_type": "markdown",
   "id": "8c699776",
   "metadata": {},
   "source": [
    "Funciones base:"
   ]
  },
  {
   "cell_type": "code",
   "execution_count": 78,
   "id": "11e02539",
   "metadata": {},
   "outputs": [],
   "source": [
    "def fwb(i, w, b):\n",
    "    z = i@w + b \n",
    "    f = (np.tanh(z) + 1) / 2 \n",
    "    return f "
   ]
  },
  {
   "cell_type": "code",
   "execution_count": 79,
   "id": "43c895da",
   "metadata": {},
   "outputs": [],
   "source": [
    "# Error cuadrático total\n",
    "def funcion_objetivo(w, b, i, d):\n",
    "    f = fwb(i, w, b)\n",
    "    return np.sum((f - d) ** 2)"
   ]
  },
  {
   "cell_type": "code",
   "execution_count": 80,
   "id": "4dd7e0ae",
   "metadata": {},
   "outputs": [],
   "source": [
    "# Derivada parcial respecto a w\n",
    "def df_w(w, b, i, d):\n",
    "    z = i@w + b\n",
    "    f = (np.tanh(z) + 1) / 2\n",
    "    \n",
    "    dz = (1 - np.tanh(z) ** 2) * (f - d)  \n",
    "    grad_w = i.T @ dz                  \n",
    "    return grad_w\n",
    "\n",
    "# def df_w(w, b, i, d):\n",
    "#     #a partir del calculo de la derivada realizado con matrixcalculus.org\n",
    "#     f = fwb(i, w, b)\n",
    "#     tanh_deriv = 1 - np.tanh(i@w + b) ** 2\n",
    "#     alpha = (tanh_deriv) * (f - d)\n",
    "#     return i.T@alpha"
   ]
  },
  {
   "cell_type": "code",
   "execution_count": 81,
   "id": "c6abd95b",
   "metadata": {},
   "outputs": [],
   "source": [
    "# Derivada parcial respecto a b\n",
    "def df_b(w, b, i, d):\n",
    "    z = i@w + b\n",
    "    f = (np.tanh(z) + 1) / 2\n",
    "    \n",
    "    dz = (1 - np.tanh(z) ** 2) * (f - d)\n",
    "    # grad_b = np.sum(dz, axis=0, keepdims=True)  # Da forma (1,1)\n",
    "    grad_b = np.sum(dz)  # Da un número escalar, que luego se maneja como vector donde todas las coordenadas son iguales\n",
    "    return grad_b\n",
    "\n",
    "# def df_b(w, b, i, d):\n",
    "#     #matrixcalculus.org\n",
    "#     f = fwb(i, w, b)\n",
    "#     tanh_deriv = 1 - (np.tanh(i@w + b)) ** 2\n",
    "#     alpha = (tanh_deriv) * (f - d)\n",
    "#     return np.sum(alpha) #se va aproximando el b con cada imagen, asi que se suman los resultados para cada una --> numero (luego np lo maneja como vector donde todas las coordenadas seran iguales)\n"
   ]
  },
  {
   "cell_type": "code",
   "execution_count": 82,
   "id": "82bde2c7",
   "metadata": {},
   "outputs": [],
   "source": [
    "def accuracy(i, d, w, b):\n",
    "    f = fwb(i, w, b) >= 0.5 # Aplicamos la función de activación y comparamos con 0.5\n",
    "    return np.mean(f == d) * 100  # Porcentaje de aciertos"
   ]
  },
  {
   "cell_type": "markdown",
   "id": "a87d36cf",
   "metadata": {},
   "source": [
    "Gradiente Descendiente:"
   ]
  },
  {
   "cell_type": "code",
   "execution_count": 83,
   "id": "761cd096",
   "metadata": {},
   "outputs": [],
   "source": [
    "MAX_ITER = 2000\n",
    "\n",
    "TOLERANCIA = 0.01\n",
    "\n",
    "def gradient_descent(w, b,imagenes_train, diagnosticos_train, imagenes_test, diagnosticos_test, alpha=0.1, normalizar=False):\n",
    "    \n",
    "    if normalizar:\n",
    "      imagenes_train = imagenes_train / np.max(imagenes_train)\n",
    "      imagenes_test = imagenes_test / np.max(imagenes_test)\n",
    "\n",
    "    iter  = 0\n",
    "    valores_train = []\n",
    "    valores_test = []\n",
    "    acc_train = []\n",
    "    acc_test = []\n",
    "\n",
    "    while iter <= MAX_ITER:\n",
    "        loss_train = funcion_objetivo(w, b, imagenes_train, diagnosticos_train)\n",
    "        print(\"Iteración: \", iter, \"- Mínimo alcanzado hasta el momento: \", loss_train)\n",
    "\n",
    "        valores_train.append(loss_train)\n",
    "        acc_train.append(accuracy(imagenes_train, diagnosticos_train, w, b))\n",
    "\n",
    "        if imagenes_test is not None and diagnosticos_test is not None: \n",
    "          valores_test.append(funcion_objetivo(w, b, imagenes_test, diagnosticos_test))\n",
    "          acc_test.append(accuracy(imagenes_test, diagnosticos_test, w, b)) \n",
    "\n",
    "        gradiente_w = df_w(w, b, imagenes_train, diagnosticos_train) \n",
    "        gradiente_b = df_b(w, b, imagenes_train, diagnosticos_train)\n",
    "\n",
    "        # Control de norma del gradiente\n",
    "        max_norm = 100.0\n",
    "        norm_w = np.linalg.norm(gradiente_w)\n",
    "        if norm_w > max_norm:\n",
    "            gradiente_w = gradiente_w * (max_norm / norm_w)\n",
    "\n",
    "        print(\"Norma gradiente_w:\", np.linalg.norm(gradiente_w))\n",
    "        print(\"gradiente_b:\", gradiente_b)\n",
    "    \n",
    "        # # Si gradiente_b no es escalar, colapsar con promedio o suma\n",
    "        # if gradiente_b.ndim > 0 and gradiente_b.size > 1:\n",
    "        #   gradiente_b = np.mean(gradiente_b)  # O np.sum(gradiente_b)\n",
    "\n",
    "        # Actualización \n",
    "        w_sig = w - alpha * gradiente_w\n",
    "        b_sig = b - alpha * gradiente_b\n",
    "\n",
    "        # Criterio de convergencia\n",
    "        criterio = np.abs(funcion_objetivo(w_sig, b_sig, imagenes_train, diagnosticos_train) - funcion_objetivo(w, b, imagenes_train, diagnosticos_train))\n",
    "\n",
    "        if criterio < TOLERANCIA: # Converge\n",
    "          print(\"Criterio de convergencia alcanzado en iteración\", iter)\n",
    "          break\n",
    "\n",
    "        w = w_sig\n",
    "        b = b_sig\n",
    "        iter += 1\n",
    "\n",
    "    return w_sig, b_sig, valores_train, valores_test, acc_train, acc_test"
   ]
  },
  {
   "cell_type": "code",
   "execution_count": 90,
   "id": "35db3657",
   "metadata": {},
   "outputs": [
    {
     "name": "stdout",
     "output_type": "stream",
     "text": [
      "Iteración:  0 - Mínimo alcanzado hasta el momento:  286.2689981166167\n",
      "Norma gradiente_w: 100.00000000000001\n",
      "gradiente_b: -31.852621637583454\n",
      "Iteración:  1 - Mínimo alcanzado hasta el momento:  571.0\n",
      "Norma gradiente_w: 0.0\n",
      "gradiente_b: 0.0\n",
      "Criterio de convergencia alcanzado en iteración 1\n"
     ]
    }
   ],
   "source": [
    "w = np.random.uniform(-1, 1, (i_train.shape[1], 1)) * 0.001\n",
    "b = np.random.uniform(-1, 1) * 0.001\n",
    "alpha = 0.1\n",
    "normalizar = False\n",
    "w_opt, b_opt, f_obj_values, f_test, acc_train, acc_test = gradient_descent(w, b, i_train, d_train, i_test, d_test, alpha, normalizar)\n"
   ]
  },
  {
   "cell_type": "code",
   "execution_count": 88,
   "id": "74d65700",
   "metadata": {},
   "outputs": [
    {
     "data": {
      "image/png": "[encoded data removed]",
      "text/plain": [
       "<Figure size 1000x600 with 2 Axes>"
      ]
     },
     "metadata": {},
     "output_type": "display_data"
    }
   ],
   "source": [
    "plt.figure(figsize=(10, 6))\n",
    "\n",
    "plt.subplot(1,2,1)\n",
    "plt.plot(f_obj_values, label='Error Train')\n",
    "if f_test:\n",
    "    plt.plot(f_test, label='Error Test')\n",
    "plt.title('Error Cuadrático durante optimización')\n",
    "plt.xlabel('Iteración')\n",
    "plt.ylabel('Error Cuadrático')\n",
    "plt.legend()\n",
    "\n",
    "plt.subplot(1,2,2)\n",
    "plt.plot(acc_train, label='Exactitud Train')\n",
    "if acc_test:\n",
    "    plt.plot(acc_test, label='Exactitud Test')\n",
    "plt.title('Exactitud durante optimización')\n",
    "plt.xlabel('Iteración')\n",
    "plt.ylabel('Exactitud')\n",
    "plt.legend()\n",
    "\n",
    "plt.show()"
   ]
  },
  {
   "cell_type": "code",
   "execution_count": 86,
   "id": "2d9e96b3",
   "metadata": {},
   "outputs": [],
   "source": [
    "# w, b, valores_train, valores_test, acc_train, acc_test = gradient_descent(\n",
    "#      b=np.zeros((1, 1)), \n",
    "#      w=np.zeros((i_train.shape[1], 1)), \n",
    "#      imagenes_train=i_train, \n",
    "#      diagnosticos_train=d_train, \n",
    "#      imagenes_test=i_test, \n",
    "#      diagnosticos_test=d_test, \n",
    "#      alpha=0.01,\n",
    "#      normalizar=False\n",
    "# )\n",
    "\n",
    "# plt.plot(valores_train, label=\"Entrenamiento\")\n",
    "# plt.plot(valores_test, label=\"Test\")\n",
    "# plt.xlabel(\"Iteración\")\n",
    "# plt.ylabel(\"Pérdida (loss)\")\n",
    "# plt.title(\"Gradient Descent - Alpha = 0.01\")\n",
    "# plt.legend()\n",
    "# plt.grid(True)\n",
    "# plt.show()"
   ]
  },
  {
   "cell_type": "code",
   "execution_count": 87,
   "id": "49c0d4c1",
   "metadata": {},
   "outputs": [],
   "source": [
    "#w, b, valores_train, valores_test = gradiente_descendente(\n",
    "#     b=np.zeros((1, 1)), \n",
    "#     w=np.zeros((i_train.shape[1], 1)), \n",
    "#     imagenes_train=i_train, \n",
    "#     diagnosticos_train=d_train, \n",
    "#     imagenes_test=i_test, \n",
    "#     diagnosticos_test=d_test, \n",
    "#     alpha=0.0\n",
    "# )\n",
    "\n",
    "# plt.plot(valores_train, label=\"Entrenamiento\")\n",
    "# plt.plot(valores_test, label=\"Test\")\n",
    "# plt.xlabel(\"Iteración\")\n",
    "# plt.ylabel(\"Pérdida (loss)\")\n",
    "# plt.title(\"Gradient Descent - Alpha = 0.009\")\n",
    "# plt.legend()\n",
    "# plt.grid(True)\n",
    "# plt.show()"
   ]
  }
 ],
 "metadata": {
  "kernelspec": {
   "display_name": "metodos",
   "language": "python",
   "name": "python3"
  },
  "language_info": {
   "codemirror_mode": {
    "name": "ipython",
    "version": 3
   },
   "file_extension": ".py",
   "mimetype": "text/x-python",
   "name": "python",
   "nbconvert_exporter": "python",
   "pygments_lexer": "ipython3",
   "version": "3.10.16"
  }
 },
 "nbformat": 4,
 "nbformat_minor": 5
}
